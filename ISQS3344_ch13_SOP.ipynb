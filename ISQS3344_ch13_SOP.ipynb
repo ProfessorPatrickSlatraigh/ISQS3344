{
  "nbformat": 4,
  "nbformat_minor": 0,
  "metadata": {
    "colab": {
      "provenance": [],
      "authorship_tag": "ABX9TyP/rc2n1e0syt9o4xCtmPmr",
      "include_colab_link": true
    },
    "kernelspec": {
      "name": "python3",
      "display_name": "Python 3"
    },
    "language_info": {
      "name": "python"
    }
  },
  "cells": [
    {
      "cell_type": "markdown",
      "metadata": {
        "id": "view-in-github",
        "colab_type": "text"
      },
      "source": [
        "<a href=\"https://colab.research.google.com/github/ProfessorPatrickSlatraigh/ISQS3344/blob/main/ISQS3344_ch13_SOP.ipynb\" target=\"_parent\"><img src=\"https://colab.research.google.com/assets/colab-badge.svg\" alt=\"Open In Colab\"/></a>"
      ]
    },
    {
      "cell_type": "markdown",
      "source": [
        "#Sales and Operations Plan Exercises    \n",
        "**from Heizer's Production and Operations Management, 14th edition**    \n",
        "\n",
        "<u>**Chapter 13**</u>    \n"
      ],
      "metadata": {
        "id": "NDogeaylr2oA"
      }
    },
    {
      "cell_type": "markdown",
      "source": [
        "##Housekeeping    \n",
        "\n",
        "*Imports of libraries and other setup before we start.*    "
      ],
      "metadata": {
        "id": "3MYaNyfjsMpT"
      }
    },
    {
      "cell_type": "code",
      "execution_count": 50,
      "metadata": {
        "id": "askLb3sdrwlJ"
      },
      "outputs": [],
      "source": [
        "# import pandas library for dataframes and other functionality \n",
        "import pandas as pd\n",
        "\n",
        "# import numpy library for arithmetic on arrays    \n",
        "import numpy as np\n",
        "\n",
        "# import datetime object from datetime library for date/time logic \n",
        "from datetime import datetime  \n",
        "\n",
        "# import matplotlib library and related objects for plotting    \n",
        "import matplotlib.pylab as plt\n",
        "%matplotlib inline\n",
        "from matplotlib.pylab import rcParams\n",
        "rcParams['figure.figsize'] = 15, 6\n",
        "\n",
        "from pandas.plotting import register_matplotlib_converters\n",
        "register_matplotlib_converters()    \n",
        "\n",
        "import matplotlib.pyplot as pyplot \n"
      ]
    },
    {
      "cell_type": "markdown",
      "source": [
        "##Load the source data file    \n",
        "\n",
        "*Read a copy of the Example 13-2 Roofing Supplier monthly demand data into the current working directory using a `.CSV` file which has a copy of the original data.*    \n"
      ],
      "metadata": {
        "id": "Ztx4StixtJLj"
      }
    },
    {
      "cell_type": "code",
      "source": [
        "# ask the operating system to copy a file from Github to the local, current working directory \n",
        "!curl \"https://raw.githubusercontent.com/ProfessorPatrickSlatraigh/data/main/heizer-om_13-2_monthlyroofing.csv\" -o heizer-om_13-2_monthlyroofing.csv"
      ],
      "metadata": {
        "colab": {
          "base_uri": "https://localhost:8080/"
        },
        "id": "lTdFhR-itcK4",
        "outputId": "ee4c5a3e-6adb-47f9-f380-55b4e79e94fd"
      },
      "execution_count": 1,
      "outputs": [
        {
          "output_type": "stream",
          "name": "stdout",
          "text": [
            "  % Total    % Received % Xferd  Average Speed   Time    Time     Time  Current\n",
            "                                 Dload  Upload   Total   Spent    Left  Speed\n",
            "\r  0     0    0     0    0     0      0      0 --:--:-- --:--:-- --:--:--     0\r100   158  100   158    0     0    858      0 --:--:-- --:--:-- --:--:--   858\n"
          ]
        }
      ]
    },
    {
      "cell_type": "markdown",
      "source": [
        "##Read Data into a Dataframe    \n",
        "\n",
        "*Read the `.CSV` file contents into a `demand_df` dataframe.*"
      ],
      "metadata": {
        "id": "W2UFulzqttmf"
      }
    },
    {
      "cell_type": "code",
      "source": [
        "# reading the local .csv file into a dataframe\n",
        "demand_df = pd.read_csv('heizer-om_13-2_monthlyroofing.csv')"
      ],
      "metadata": {
        "id": "rcdwqQOPt80S"
      },
      "execution_count": 3,
      "outputs": []
    },
    {
      "cell_type": "code",
      "source": [
        "demand_df.dtypes"
      ],
      "metadata": {
        "colab": {
          "base_uri": "https://localhost:8080/"
        },
        "id": "9XH50GYXuzTK",
        "outputId": "f2dd83d9-2ce7-4b48-e65e-184c7bdaa4ff"
      },
      "execution_count": 20,
      "outputs": [
        {
          "output_type": "execute_result",
          "data": {
            "text/plain": [
              "month              object\n",
              "year               object\n",
              "expected_demand     int64\n",
              "production_days     int64\n",
              "demand_per_day      int64\n",
              "dtype: object"
            ]
          },
          "metadata": {},
          "execution_count": 20
        }
      ]
    },
    {
      "cell_type": "code",
      "source": [
        "demand_df"
      ],
      "metadata": {
        "colab": {
          "base_uri": "https://localhost:8080/",
          "height": 237
        },
        "id": "hvhjJXpFuGSC",
        "outputId": "2e7d8569-0909-4da9-e400-02e0cf10ac7a"
      },
      "execution_count": 4,
      "outputs": [
        {
          "output_type": "execute_result",
          "data": {
            "text/plain": [
              "  month  year expected_demand  production_days\n",
              "0   Jan  2023             900               22\n",
              "1   Feb  2023             700               18\n",
              "2   Mar  2023             800               21\n",
              "3   Apr  2023           1,200               21\n",
              "4   May  2023           1,500               22\n",
              "5   Jun  2023           1,100               20"
            ],
            "text/html": [
              "\n",
              "  <div id=\"df-93b3a6ff-63b1-4bee-90d8-54770df4ac69\">\n",
              "    <div class=\"colab-df-container\">\n",
              "      <div>\n",
              "<style scoped>\n",
              "    .dataframe tbody tr th:only-of-type {\n",
              "        vertical-align: middle;\n",
              "    }\n",
              "\n",
              "    .dataframe tbody tr th {\n",
              "        vertical-align: top;\n",
              "    }\n",
              "\n",
              "    .dataframe thead th {\n",
              "        text-align: right;\n",
              "    }\n",
              "</style>\n",
              "<table border=\"1\" class=\"dataframe\">\n",
              "  <thead>\n",
              "    <tr style=\"text-align: right;\">\n",
              "      <th></th>\n",
              "      <th>month</th>\n",
              "      <th>year</th>\n",
              "      <th>expected_demand</th>\n",
              "      <th>production_days</th>\n",
              "    </tr>\n",
              "  </thead>\n",
              "  <tbody>\n",
              "    <tr>\n",
              "      <th>0</th>\n",
              "      <td>Jan</td>\n",
              "      <td>2023</td>\n",
              "      <td>900</td>\n",
              "      <td>22</td>\n",
              "    </tr>\n",
              "    <tr>\n",
              "      <th>1</th>\n",
              "      <td>Feb</td>\n",
              "      <td>2023</td>\n",
              "      <td>700</td>\n",
              "      <td>18</td>\n",
              "    </tr>\n",
              "    <tr>\n",
              "      <th>2</th>\n",
              "      <td>Mar</td>\n",
              "      <td>2023</td>\n",
              "      <td>800</td>\n",
              "      <td>21</td>\n",
              "    </tr>\n",
              "    <tr>\n",
              "      <th>3</th>\n",
              "      <td>Apr</td>\n",
              "      <td>2023</td>\n",
              "      <td>1,200</td>\n",
              "      <td>21</td>\n",
              "    </tr>\n",
              "    <tr>\n",
              "      <th>4</th>\n",
              "      <td>May</td>\n",
              "      <td>2023</td>\n",
              "      <td>1,500</td>\n",
              "      <td>22</td>\n",
              "    </tr>\n",
              "    <tr>\n",
              "      <th>5</th>\n",
              "      <td>Jun</td>\n",
              "      <td>2023</td>\n",
              "      <td>1,100</td>\n",
              "      <td>20</td>\n",
              "    </tr>\n",
              "  </tbody>\n",
              "</table>\n",
              "</div>\n",
              "      <button class=\"colab-df-convert\" onclick=\"convertToInteractive('df-93b3a6ff-63b1-4bee-90d8-54770df4ac69')\"\n",
              "              title=\"Convert this dataframe to an interactive table.\"\n",
              "              style=\"display:none;\">\n",
              "        \n",
              "  <svg xmlns=\"http://www.w3.org/2000/svg\" height=\"24px\"viewBox=\"0 0 24 24\"\n",
              "       width=\"24px\">\n",
              "    <path d=\"M0 0h24v24H0V0z\" fill=\"none\"/>\n",
              "    <path d=\"M18.56 5.44l.94 2.06.94-2.06 2.06-.94-2.06-.94-.94-2.06-.94 2.06-2.06.94zm-11 1L8.5 8.5l.94-2.06 2.06-.94-2.06-.94L8.5 2.5l-.94 2.06-2.06.94zm10 10l.94 2.06.94-2.06 2.06-.94-2.06-.94-.94-2.06-.94 2.06-2.06.94z\"/><path d=\"M17.41 7.96l-1.37-1.37c-.4-.4-.92-.59-1.43-.59-.52 0-1.04.2-1.43.59L10.3 9.45l-7.72 7.72c-.78.78-.78 2.05 0 2.83L4 21.41c.39.39.9.59 1.41.59.51 0 1.02-.2 1.41-.59l7.78-7.78 2.81-2.81c.8-.78.8-2.07 0-2.86zM5.41 20L4 18.59l7.72-7.72 1.47 1.35L5.41 20z\"/>\n",
              "  </svg>\n",
              "      </button>\n",
              "      \n",
              "  <style>\n",
              "    .colab-df-container {\n",
              "      display:flex;\n",
              "      flex-wrap:wrap;\n",
              "      gap: 12px;\n",
              "    }\n",
              "\n",
              "    .colab-df-convert {\n",
              "      background-color: #E8F0FE;\n",
              "      border: none;\n",
              "      border-radius: 50%;\n",
              "      cursor: pointer;\n",
              "      display: none;\n",
              "      fill: #1967D2;\n",
              "      height: 32px;\n",
              "      padding: 0 0 0 0;\n",
              "      width: 32px;\n",
              "    }\n",
              "\n",
              "    .colab-df-convert:hover {\n",
              "      background-color: #E2EBFA;\n",
              "      box-shadow: 0px 1px 2px rgba(60, 64, 67, 0.3), 0px 1px 3px 1px rgba(60, 64, 67, 0.15);\n",
              "      fill: #174EA6;\n",
              "    }\n",
              "\n",
              "    [theme=dark] .colab-df-convert {\n",
              "      background-color: #3B4455;\n",
              "      fill: #D2E3FC;\n",
              "    }\n",
              "\n",
              "    [theme=dark] .colab-df-convert:hover {\n",
              "      background-color: #434B5C;\n",
              "      box-shadow: 0px 1px 3px 1px rgba(0, 0, 0, 0.15);\n",
              "      filter: drop-shadow(0px 1px 2px rgba(0, 0, 0, 0.3));\n",
              "      fill: #FFFFFF;\n",
              "    }\n",
              "  </style>\n",
              "\n",
              "      <script>\n",
              "        const buttonEl =\n",
              "          document.querySelector('#df-93b3a6ff-63b1-4bee-90d8-54770df4ac69 button.colab-df-convert');\n",
              "        buttonEl.style.display =\n",
              "          google.colab.kernel.accessAllowed ? 'block' : 'none';\n",
              "\n",
              "        async function convertToInteractive(key) {\n",
              "          const element = document.querySelector('#df-93b3a6ff-63b1-4bee-90d8-54770df4ac69');\n",
              "          const dataTable =\n",
              "            await google.colab.kernel.invokeFunction('convertToInteractive',\n",
              "                                                     [key], {});\n",
              "          if (!dataTable) return;\n",
              "\n",
              "          const docLinkHtml = 'Like what you see? Visit the ' +\n",
              "            '<a target=\"_blank\" href=https://colab.research.google.com/notebooks/data_table.ipynb>data table notebook</a>'\n",
              "            + ' to learn more about interactive tables.';\n",
              "          element.innerHTML = '';\n",
              "          dataTable['output_type'] = 'display_data';\n",
              "          await google.colab.output.renderOutput(dataTable, element);\n",
              "          const docLink = document.createElement('div');\n",
              "          docLink.innerHTML = docLinkHtml;\n",
              "          element.appendChild(docLink);\n",
              "        }\n",
              "      </script>\n",
              "    </div>\n",
              "  </div>\n",
              "  "
            ]
          },
          "metadata": {},
          "execution_count": 4
        }
      ]
    },
    {
      "cell_type": "markdown",
      "source": [
        "##Perform Transformations and Enrichment    \n"
      ],
      "metadata": {
        "id": "rbrMDec-uZ29"
      }
    },
    {
      "cell_type": "markdown",
      "source": [
        "###Transform Expected Demand\n",
        "\n",
        "*Replace the text in `expected_demand` with the integer equivalent of the text but first remove the ',' commas.*"
      ],
      "metadata": {
        "id": "lHO6zN9gvAUB"
      }
    },
    {
      "cell_type": "code",
      "source": [
        "# first, replace the commas in the text of `expected_demand` with an empty string\n",
        "demand_df['expected_demand'] = demand_df['expected_demand'].str.replace(',','')\n",
        "\n",
        "# then, replace the string values in `expected_demand` with their integer equivalent\n",
        "demand_df['expected_demand'] = demand_df['expected_demand'].astype(int)"
      ],
      "metadata": {
        "id": "0CuUpvzsvLtl"
      },
      "execution_count": 9,
      "outputs": []
    },
    {
      "cell_type": "markdown",
      "source": [
        "###Calculate Demand per Day    "
      ],
      "metadata": {
        "id": "cIK8DGTouekx"
      }
    },
    {
      "cell_type": "code",
      "source": [
        "# first, calculate the value of `production_days` -- this results in a value of type *float*\n",
        "demand_df['demand_per_day']  = demand_df['expected_demand'] / demand_df['production_days']\n",
        "\n",
        "# then, replace the value of `production_days` with the integer equivalent (rounded) \n",
        "demand_df['demand_per_day']  = demand_df['demand_per_day'].round().astype(int)"
      ],
      "metadata": {
        "id": "-AxvJuysuhdS"
      },
      "execution_count": 16,
      "outputs": []
    },
    {
      "cell_type": "code",
      "source": [
        "demand_df"
      ],
      "metadata": {
        "colab": {
          "base_uri": "https://localhost:8080/",
          "height": 269
        },
        "id": "HtO0AbLWwTzM",
        "outputId": "ecbea756-b782-4609-c728-1aea1fad9efc"
      },
      "execution_count": 78,
      "outputs": [
        {
          "output_type": "execute_result",
          "data": {
            "text/plain": [
              "           month  year  expected_demand  production_days  demand_per_day  \\\n",
              "period                                                                     \n",
              "2023-01-01   Jan  2023              900               22              41   \n",
              "2023-02-01   Feb  2023              700               18              39   \n",
              "2023-03-01   Mar  2023              800               21              38   \n",
              "2023-04-01   Apr  2023             1200               21              57   \n",
              "2023-05-01   May  2023             1500               22              68   \n",
              "2023-06-01   Jun  2023             1100               20              55   \n",
              "\n",
              "            level_production  \n",
              "period                        \n",
              "2023-01-01              50.0  \n",
              "2023-02-01              50.0  \n",
              "2023-03-01              50.0  \n",
              "2023-04-01              50.0  \n",
              "2023-05-01              50.0  \n",
              "2023-06-01              50.0  "
            ],
            "text/html": [
              "\n",
              "  <div id=\"df-c02e8105-cf73-4bf8-9ba9-e34a1f6339aa\">\n",
              "    <div class=\"colab-df-container\">\n",
              "      <div>\n",
              "<style scoped>\n",
              "    .dataframe tbody tr th:only-of-type {\n",
              "        vertical-align: middle;\n",
              "    }\n",
              "\n",
              "    .dataframe tbody tr th {\n",
              "        vertical-align: top;\n",
              "    }\n",
              "\n",
              "    .dataframe thead th {\n",
              "        text-align: right;\n",
              "    }\n",
              "</style>\n",
              "<table border=\"1\" class=\"dataframe\">\n",
              "  <thead>\n",
              "    <tr style=\"text-align: right;\">\n",
              "      <th></th>\n",
              "      <th>month</th>\n",
              "      <th>year</th>\n",
              "      <th>expected_demand</th>\n",
              "      <th>production_days</th>\n",
              "      <th>demand_per_day</th>\n",
              "      <th>level_production</th>\n",
              "    </tr>\n",
              "    <tr>\n",
              "      <th>period</th>\n",
              "      <th></th>\n",
              "      <th></th>\n",
              "      <th></th>\n",
              "      <th></th>\n",
              "      <th></th>\n",
              "      <th></th>\n",
              "    </tr>\n",
              "  </thead>\n",
              "  <tbody>\n",
              "    <tr>\n",
              "      <th>2023-01-01</th>\n",
              "      <td>Jan</td>\n",
              "      <td>2023</td>\n",
              "      <td>900</td>\n",
              "      <td>22</td>\n",
              "      <td>41</td>\n",
              "      <td>50.0</td>\n",
              "    </tr>\n",
              "    <tr>\n",
              "      <th>2023-02-01</th>\n",
              "      <td>Feb</td>\n",
              "      <td>2023</td>\n",
              "      <td>700</td>\n",
              "      <td>18</td>\n",
              "      <td>39</td>\n",
              "      <td>50.0</td>\n",
              "    </tr>\n",
              "    <tr>\n",
              "      <th>2023-03-01</th>\n",
              "      <td>Mar</td>\n",
              "      <td>2023</td>\n",
              "      <td>800</td>\n",
              "      <td>21</td>\n",
              "      <td>38</td>\n",
              "      <td>50.0</td>\n",
              "    </tr>\n",
              "    <tr>\n",
              "      <th>2023-04-01</th>\n",
              "      <td>Apr</td>\n",
              "      <td>2023</td>\n",
              "      <td>1200</td>\n",
              "      <td>21</td>\n",
              "      <td>57</td>\n",
              "      <td>50.0</td>\n",
              "    </tr>\n",
              "    <tr>\n",
              "      <th>2023-05-01</th>\n",
              "      <td>May</td>\n",
              "      <td>2023</td>\n",
              "      <td>1500</td>\n",
              "      <td>22</td>\n",
              "      <td>68</td>\n",
              "      <td>50.0</td>\n",
              "    </tr>\n",
              "    <tr>\n",
              "      <th>2023-06-01</th>\n",
              "      <td>Jun</td>\n",
              "      <td>2023</td>\n",
              "      <td>1100</td>\n",
              "      <td>20</td>\n",
              "      <td>55</td>\n",
              "      <td>50.0</td>\n",
              "    </tr>\n",
              "  </tbody>\n",
              "</table>\n",
              "</div>\n",
              "      <button class=\"colab-df-convert\" onclick=\"convertToInteractive('df-c02e8105-cf73-4bf8-9ba9-e34a1f6339aa')\"\n",
              "              title=\"Convert this dataframe to an interactive table.\"\n",
              "              style=\"display:none;\">\n",
              "        \n",
              "  <svg xmlns=\"http://www.w3.org/2000/svg\" height=\"24px\"viewBox=\"0 0 24 24\"\n",
              "       width=\"24px\">\n",
              "    <path d=\"M0 0h24v24H0V0z\" fill=\"none\"/>\n",
              "    <path d=\"M18.56 5.44l.94 2.06.94-2.06 2.06-.94-2.06-.94-.94-2.06-.94 2.06-2.06.94zm-11 1L8.5 8.5l.94-2.06 2.06-.94-2.06-.94L8.5 2.5l-.94 2.06-2.06.94zm10 10l.94 2.06.94-2.06 2.06-.94-2.06-.94-.94-2.06-.94 2.06-2.06.94z\"/><path d=\"M17.41 7.96l-1.37-1.37c-.4-.4-.92-.59-1.43-.59-.52 0-1.04.2-1.43.59L10.3 9.45l-7.72 7.72c-.78.78-.78 2.05 0 2.83L4 21.41c.39.39.9.59 1.41.59.51 0 1.02-.2 1.41-.59l7.78-7.78 2.81-2.81c.8-.78.8-2.07 0-2.86zM5.41 20L4 18.59l7.72-7.72 1.47 1.35L5.41 20z\"/>\n",
              "  </svg>\n",
              "      </button>\n",
              "      \n",
              "  <style>\n",
              "    .colab-df-container {\n",
              "      display:flex;\n",
              "      flex-wrap:wrap;\n",
              "      gap: 12px;\n",
              "    }\n",
              "\n",
              "    .colab-df-convert {\n",
              "      background-color: #E8F0FE;\n",
              "      border: none;\n",
              "      border-radius: 50%;\n",
              "      cursor: pointer;\n",
              "      display: none;\n",
              "      fill: #1967D2;\n",
              "      height: 32px;\n",
              "      padding: 0 0 0 0;\n",
              "      width: 32px;\n",
              "    }\n",
              "\n",
              "    .colab-df-convert:hover {\n",
              "      background-color: #E2EBFA;\n",
              "      box-shadow: 0px 1px 2px rgba(60, 64, 67, 0.3), 0px 1px 3px 1px rgba(60, 64, 67, 0.15);\n",
              "      fill: #174EA6;\n",
              "    }\n",
              "\n",
              "    [theme=dark] .colab-df-convert {\n",
              "      background-color: #3B4455;\n",
              "      fill: #D2E3FC;\n",
              "    }\n",
              "\n",
              "    [theme=dark] .colab-df-convert:hover {\n",
              "      background-color: #434B5C;\n",
              "      box-shadow: 0px 1px 3px 1px rgba(0, 0, 0, 0.15);\n",
              "      filter: drop-shadow(0px 1px 2px rgba(0, 0, 0, 0.3));\n",
              "      fill: #FFFFFF;\n",
              "    }\n",
              "  </style>\n",
              "\n",
              "      <script>\n",
              "        const buttonEl =\n",
              "          document.querySelector('#df-c02e8105-cf73-4bf8-9ba9-e34a1f6339aa button.colab-df-convert');\n",
              "        buttonEl.style.display =\n",
              "          google.colab.kernel.accessAllowed ? 'block' : 'none';\n",
              "\n",
              "        async function convertToInteractive(key) {\n",
              "          const element = document.querySelector('#df-c02e8105-cf73-4bf8-9ba9-e34a1f6339aa');\n",
              "          const dataTable =\n",
              "            await google.colab.kernel.invokeFunction('convertToInteractive',\n",
              "                                                     [key], {});\n",
              "          if (!dataTable) return;\n",
              "\n",
              "          const docLinkHtml = 'Like what you see? Visit the ' +\n",
              "            '<a target=\"_blank\" href=https://colab.research.google.com/notebooks/data_table.ipynb>data table notebook</a>'\n",
              "            + ' to learn more about interactive tables.';\n",
              "          element.innerHTML = '';\n",
              "          dataTable['output_type'] = 'display_data';\n",
              "          await google.colab.output.renderOutput(dataTable, element);\n",
              "          const docLink = document.createElement('div');\n",
              "          docLink.innerHTML = docLinkHtml;\n",
              "          element.appendChild(docLink);\n",
              "        }\n",
              "      </script>\n",
              "    </div>\n",
              "  </div>\n",
              "  "
            ]
          },
          "metadata": {},
          "execution_count": 78
        }
      ]
    },
    {
      "cell_type": "markdown",
      "source": [
        "###Create a Datetime Index for Monthly Periods    "
      ],
      "metadata": {
        "id": "IKgRvTXHxoWB"
      }
    },
    {
      "cell_type": "code",
      "source": [
        "# transform the `year` into its string equivalent\n",
        "demand_df['year'] = demand_df['year'].astype(str)"
      ],
      "metadata": {
        "id": "o8kkbDi3y8S9"
      },
      "execution_count": 19,
      "outputs": []
    },
    {
      "cell_type": "code",
      "source": [
        "# create a temporary `yearmonth` column by combining the strings from `year` and `month`\n",
        "demand_df['dash'] = '-'\n",
        "demand_df['day'] = '-01'\n",
        "demand_df['yearmonth'] = demand_df.year.str.cat(demand_df.dash) \n",
        "demand_df['yearmonth'] = demand_df.yearmonth.str.cat(demand_df.month) \n",
        "demand_df['yearmonthday'] = demand_df.yearmonth.str.cat(demand_df.day) "
      ],
      "metadata": {
        "id": "dgvCT43B0fFs"
      },
      "execution_count": 41,
      "outputs": []
    },
    {
      "cell_type": "code",
      "source": [
        "# calculate a new column for year_month as datetime    \n",
        "demand_df['period']=pd.to_datetime(demand_df['yearmonthday'])"
      ],
      "metadata": {
        "id": "xxhzrV96xva_"
      },
      "execution_count": 42,
      "outputs": []
    },
    {
      "cell_type": "code",
      "source": [
        "# cleanup the temporary columns \n",
        "del demand_df['dash']\n",
        "del demand_df['day']\n",
        "del demand_df['yearmonth']\n",
        "del demand_df['yearmonthday']\n"
      ],
      "metadata": {
        "id": "BYAfb6I32GcO"
      },
      "execution_count": 43,
      "outputs": []
    },
    {
      "cell_type": "code",
      "source": [
        "# set the `period` datetime as the row index    \n",
        "demand_df.set_index('period', inplace=True)\n",
        "\n",
        "#check datatype of index\n",
        "demand_df.index"
      ],
      "metadata": {
        "colab": {
          "base_uri": "https://localhost:8080/"
        },
        "id": "Nb8eStrt2nCx",
        "outputId": "f3cb62dc-1cb7-43e4-d83c-fba1c555361e"
      },
      "execution_count": 45,
      "outputs": [
        {
          "output_type": "execute_result",
          "data": {
            "text/plain": [
              "DatetimeIndex(['2023-01-01', '2023-02-01', '2023-03-01', '2023-04-01',\n",
              "               '2023-05-01', '2023-06-01'],\n",
              "              dtype='datetime64[ns]', name='period', freq=None)"
            ]
          },
          "metadata": {},
          "execution_count": 45
        }
      ]
    },
    {
      "cell_type": "markdown",
      "source": [
        "###Calculate Level Production     \n",
        "\n",
        "*Use the average (mean) monthly demand to calculate a steady level of production per period (month).*    \n"
      ],
      "metadata": {
        "id": "6hHsG-qJ-s5X"
      }
    },
    {
      "cell_type": "code",
      "source": [
        "demand_df['level_production'] = demand_df['demand_per_day'].mean().round()"
      ],
      "metadata": {
        "id": "p3-VvZ1V_AE9"
      },
      "execution_count": 77,
      "outputs": []
    },
    {
      "cell_type": "markdown",
      "source": [
        "##Plot the Demand per Production Day by Period (Month)  \n",
        "\n",
        "*Plot a bar chart of monthly demand per production day along with a line for the mean demand (level_production).*    "
      ],
      "metadata": {
        "id": "fhmgiFeJ9_dg"
      }
    },
    {
      "cell_type": "code",
      "source": [
        "fig, ax = plt.subplots(figsize=(12,6))\n",
        "\n",
        "plt.rcParams[\"figure.figsize\"] = [7.50, 3.50]\n",
        "plt.rcParams[\"figure.autolayout\"] = True\n",
        "\n",
        "\n",
        "# plot the bar chart of demand per production day\n",
        "pyplot.bar(demand_df.index.month, demand_df[\"demand_per_day\"])\n",
        "\n",
        "# plot the line of level production (mean demand) per day\n",
        "pyplot.plot(demand_df.index.month, demand_df[\"level_production\"], marker='*', color='red')\n",
        "\n",
        "pyplot.legend(['Level Production', 'Monthly Demand'])\n",
        "pyplot.xlabel('Month')\n",
        "pyplot.ylabel('Production rate per working day')\n",
        "pyplot.title('Production Days by Period')\n",
        "\n",
        "pyplot.show()"
      ],
      "metadata": {
        "colab": {
          "base_uri": "https://localhost:8080/",
          "height": 441
        },
        "id": "NCKDDco68MMH",
        "outputId": "dfa1f6ce-c435-4a63-858a-06d857a6b6c1"
      },
      "execution_count": 94,
      "outputs": [
        {
          "output_type": "display_data",
          "data": {
            "text/plain": [
              "<Figure size 864x432 with 1 Axes>"
            ],
            "image/png": "[encoded data removed]"
          },
          "metadata": {
            "needs_background": "light"
          }
        }
      ]
    }
  ]
}