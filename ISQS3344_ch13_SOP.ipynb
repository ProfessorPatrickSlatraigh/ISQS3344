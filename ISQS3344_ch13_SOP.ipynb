{
  "nbformat": 4,
  "nbformat_minor": 0,
  "metadata": {
    "colab": {
      "provenance": [],
      "collapsed_sections": [],
      "authorship_tag": "ABX9TyOlJXYcNglB40O8WX7DAFY2",
      "include_colab_link": true
    },
    "kernelspec": {
      "name": "python3",
      "display_name": "Python 3"
    },
    "language_info": {
      "name": "python"
    }
  },
  "cells": [
    {
      "cell_type": "markdown",
      "metadata": {
        "id": "view-in-github",
        "colab_type": "text"
      },
      "source": [
        "<a href=\"https://colab.research.google.com/github/ProfessorPatrickSlatraigh/ISQS3344/blob/main/ISQS3344_ch13_SOP.ipynb\" target=\"_parent\"><img src=\"https://colab.research.google.com/assets/colab-badge.svg\" alt=\"Open In Colab\"/></a>"
      ]
    },
    {
      "cell_type": "markdown",
      "source": [
        "#Sales and Operations Plan Exercises    \n",
        "**from Heizer's Production and Operations Management, 14th edition**    \n",
        "\n",
        "<u>**Chapter 13**</u>    \n"
      ],
      "metadata": {
        "id": "NDogeaylr2oA"
      }
    },
    {
      "cell_type": "markdown",
      "source": [
        "##Housekeeping    \n",
        "\n",
        "*Imports of libraries and other setup before we start.*    "
      ],
      "metadata": {
        "id": "3MYaNyfjsMpT"
      }
    },
    {
      "cell_type": "code",
      "execution_count": null,
      "metadata": {
        "id": "askLb3sdrwlJ"
      },
      "outputs": [],
      "source": [
        "# import pandas library for dataframes and other functionality \n",
        "import pandas as pd\n",
        "\n",
        "# import numpy library for arithmetic on arrays    \n",
        "import numpy as np\n",
        "\n",
        "# import datetime object from datetime library for date/time logic \n",
        "from datetime import datetime  \n",
        "\n",
        "# import matplotlib library and related objects for plotting    \n",
        "import matplotlib.pylab as plt\n",
        "%matplotlib inline\n",
        "from matplotlib.pylab import rcParams\n",
        "rcParams['figure.figsize'] = 15, 6\n",
        "\n",
        "from pandas.plotting import register_matplotlib_converters\n",
        "register_matplotlib_converters()    \n",
        "\n",
        "import matplotlib.pyplot as pyplot \n"
      ]
    },
    {
      "cell_type": "markdown",
      "source": [
        "##Load the source data file    \n",
        "\n",
        "*Read a copy of the Example 13-2 Roofing Supplier monthly demand data into the current working directory using a `.CSV` file which has a copy of the original data.*    \n"
      ],
      "metadata": {
        "id": "Ztx4StixtJLj"
      }
    },
    {
      "cell_type": "code",
      "source": [
        "# ask the operating system to copy a file from Github to the local, current working directory \n",
        "!curl \"https://raw.githubusercontent.com/ProfessorPatrickSlatraigh/data/main/heizer-om_13-2_monthlyroofing.csv\" -o heizer-om_13-2_monthlyroofing.csv"
      ],
      "metadata": {
        "id": "lTdFhR-itcK4",
        "outputId": "5cf0482d-3cc2-4407-8cf3-425c492d6235",
        "colab": {
          "base_uri": "https://localhost:8080/"
        }
      },
      "execution_count": null,
      "outputs": [
        {
          "output_type": "stream",
          "name": "stdout",
          "text": [
            "  % Total    % Received % Xferd  Average Speed   Time    Time     Time  Current\n",
            "                                 Dload  Upload   Total   Spent    Left  Speed\n",
            "\r  0     0    0     0    0     0      0      0 --:--:-- --:--:-- --:--:--     0\r100   158  100   158    0     0    957      0 --:--:-- --:--:-- --:--:--   957\n"
          ]
        }
      ]
    },
    {
      "cell_type": "markdown",
      "source": [
        "##Read Data into a Dataframe    \n",
        "\n",
        "*Read the `.CSV` file contents into a `demand_df` dataframe.*"
      ],
      "metadata": {
        "id": "W2UFulzqttmf"
      }
    },
    {
      "cell_type": "code",
      "source": [
        "# reading the local .csv file into a dataframe\n",
        "demand_df = pd.read_csv('heizer-om_13-2_monthlyroofing.csv')"
      ],
      "metadata": {
        "id": "rcdwqQOPt80S"
      },
      "execution_count": null,
      "outputs": []
    },
    {
      "cell_type": "code",
      "source": [
        "demand_df.dtypes"
      ],
      "metadata": {
        "id": "9XH50GYXuzTK",
        "outputId": "a2ba50cf-cf49-437d-c081-4861fe833ae3",
        "colab": {
          "base_uri": "https://localhost:8080/"
        }
      },
      "execution_count": null,
      "outputs": [
        {
          "output_type": "execute_result",
          "data": {
            "text/plain": [
              "month              object\n",
              "year                int64\n",
              "expected_demand    object\n",
              "production_days     int64\n",
              "dtype: object"
            ]
          },
          "metadata": {},
          "execution_count": 166
        }
      ]
    },
    {
      "cell_type": "code",
      "source": [
        "demand_df"
      ],
      "metadata": {
        "id": "hvhjJXpFuGSC"
      },
      "execution_count": null,
      "outputs": []
    },
    {
      "cell_type": "markdown",
      "source": [
        "##Perform Transformations and Enrichment    \n"
      ],
      "metadata": {
        "id": "rbrMDec-uZ29"
      }
    },
    {
      "cell_type": "markdown",
      "source": [
        "###Transform Expected Demand\n",
        "\n",
        "*Replace the text in `expected_demand` with the integer equivalent of the text but first remove the ',' commas.*"
      ],
      "metadata": {
        "id": "lHO6zN9gvAUB"
      }
    },
    {
      "cell_type": "code",
      "source": [
        "# first, replace the commas in the text of `expected_demand` with an empty string\n",
        "demand_df['expected_demand'] = demand_df['expected_demand'].str.replace(',','')\n",
        "\n",
        "# then, replace the string values in `expected_demand` with their integer equivalent\n",
        "demand_df['expected_demand'] = demand_df['expected_demand'].astype(int)"
      ],
      "metadata": {
        "id": "0CuUpvzsvLtl"
      },
      "execution_count": null,
      "outputs": []
    },
    {
      "cell_type": "markdown",
      "source": [
        "###Calculate Demand per Day    "
      ],
      "metadata": {
        "id": "cIK8DGTouekx"
      }
    },
    {
      "cell_type": "code",
      "source": [
        "# first, calculate the value of `production_days` -- this results in a value of type *float*\n",
        "demand_df['demand_per_day']  = demand_df['expected_demand'] / demand_df['production_days']\n",
        "\n",
        "# then, replace the value of `production_days` with the integer equivalent (rounded) \n",
        "demand_df['demand_per_day']  = demand_df['demand_per_day'].round().astype(int)"
      ],
      "metadata": {
        "id": "-AxvJuysuhdS"
      },
      "execution_count": null,
      "outputs": []
    },
    {
      "cell_type": "code",
      "source": [
        "demand_df"
      ],
      "metadata": {
        "id": "HtO0AbLWwTzM"
      },
      "execution_count": null,
      "outputs": []
    },
    {
      "cell_type": "markdown",
      "source": [
        "###Create a Datetime Index for Monthly Periods    "
      ],
      "metadata": {
        "id": "IKgRvTXHxoWB"
      }
    },
    {
      "cell_type": "code",
      "source": [
        "# transform the `year` into its string equivalent\n",
        "demand_df['year'] = demand_df['year'].astype(str)"
      ],
      "metadata": {
        "id": "o8kkbDi3y8S9"
      },
      "execution_count": null,
      "outputs": []
    },
    {
      "cell_type": "code",
      "source": [
        "# create a temporary `yearmonth` column by combining the strings from `year` and `month`\n",
        "demand_df['dash'] = '-'\n",
        "demand_df['day'] = '-01'\n",
        "demand_df['yearmonth'] = demand_df.year.str.cat(demand_df.dash) \n",
        "demand_df['yearmonth'] = demand_df.yearmonth.str.cat(demand_df.month) \n",
        "demand_df['yearmonthday'] = demand_df.yearmonth.str.cat(demand_df.day) "
      ],
      "metadata": {
        "id": "dgvCT43B0fFs"
      },
      "execution_count": null,
      "outputs": []
    },
    {
      "cell_type": "code",
      "source": [
        "# calculate a new column for year_month as datetime    \n",
        "demand_df['period']=pd.to_datetime(demand_df['yearmonthday'])"
      ],
      "metadata": {
        "id": "xxhzrV96xva_"
      },
      "execution_count": null,
      "outputs": []
    },
    {
      "cell_type": "code",
      "source": [
        "# cleanup the temporary columns \n",
        "del demand_df['dash']\n",
        "del demand_df['day']\n",
        "del demand_df['yearmonth']\n",
        "# del demand_df['yearmonthday'] # may want this later to restore a reset index\n"
      ],
      "metadata": {
        "id": "BYAfb6I32GcO"
      },
      "execution_count": null,
      "outputs": []
    },
    {
      "cell_type": "code",
      "source": [
        "# set the `period` datetime as the row index    \n",
        "demand_df.set_index('period', inplace=True)\n",
        "\n",
        "#check datatype of index\n",
        "demand_df.index"
      ],
      "metadata": {
        "id": "Nb8eStrt2nCx"
      },
      "execution_count": null,
      "outputs": []
    },
    {
      "cell_type": "markdown",
      "source": [
        "###Calculate Level Production     \n",
        "\n",
        "*Use the average (mean) monthly demand to calculate a steady level of production per period (month).*    \n"
      ],
      "metadata": {
        "id": "6hHsG-qJ-s5X"
      }
    },
    {
      "cell_type": "code",
      "source": [
        "demand_df['level_production'] = demand_df['demand_per_day'].mean().round()"
      ],
      "metadata": {
        "id": "p3-VvZ1V_AE9"
      },
      "execution_count": null,
      "outputs": []
    },
    {
      "cell_type": "markdown",
      "source": [
        "##Plot the Demand per Production Day by Period (Month)  \n",
        "\n",
        "*Plot a bar chart of monthly demand per production day along with a line for the mean demand (level_production).*    "
      ],
      "metadata": {
        "id": "fhmgiFeJ9_dg"
      }
    },
    {
      "cell_type": "code",
      "source": [
        "fig, ax = plt.subplots(figsize=(12,6))\n",
        "\n",
        "plt.rcParams[\"figure.figsize\"] = [7.50, 3.50]\n",
        "plt.rcParams[\"figure.autolayout\"] = True\n",
        "\n",
        "\n",
        "# plot the bar chart of demand per production day\n",
        "pyplot.bar(demand_df.index.month, demand_df[\"demand_per_day\"])\n",
        "\n",
        "# plot the line of level production (mean demand) per day\n",
        "pyplot.plot(demand_df.index.month, demand_df[\"level_production\"], marker='*', color='red')\n",
        "\n",
        "pyplot.legend(['Level Production', 'Monthly Demand'])\n",
        "pyplot.xlabel('Month')\n",
        "pyplot.ylabel('Production rate per working day')\n",
        "pyplot.title('Production Days by Period')\n",
        "\n",
        "pyplot.show()"
      ],
      "metadata": {
        "id": "NCKDDco68MMH"
      },
      "execution_count": null,
      "outputs": []
    },
    {
      "cell_type": "markdown",
      "source": [
        "##S&OP Approaches    \n"
      ],
      "metadata": {
        "id": "7aObxfVINryF"
      }
    },
    {
      "cell_type": "markdown",
      "source": [
        "**Assume the following values...**    \n"
      ],
      "metadata": {
        "id": "yfz-h3GGPjEP"
      }
    },
    {
      "cell_type": "markdown",
      "source": [
        "|Description  |  Variable  |  Value ($)  |  Basis  |\n",
        "|-------------|------------|---------|---------| \n",
        "| Inventory carrying cost|  carrying_cost  |  5  | USD/unit per month |\n",
        "| Subcontracting cost per unit  |  contractor_cost  |  20  |  USD/unit |\n",
        "| Average pay rate|  avg_pay_rate  |  10   |  USD/hour  |\n",
        "| Overtime pay rate|  ot_pay_rate  |  17  |  USD/hour >8  |\n",
        "| Labor-hours to produce a unit|  labor_per_unit  |  1.6  | hours/unit |\n",
        "| Cost of increasing daily production rate: \n",
        "(hiring and training)|  increment_cost  |  300  |  USD/unit |\n",
        "| Cost of decreasing daily production rate: \n",
        "(layoffs)|  reduction_cost  |  600  |  USD/unit| \n"
      ],
      "metadata": {
        "id": "vYtakxQNNvh4"
      }
    },
    {
      "cell_type": "code",
      "source": [
        "# assign values to variables per the table above\n",
        "carrying_cost = 5 \n",
        "contractor_cost = 20\n",
        "avg_pay_rate = 10\n",
        "ot_pay_rate = 17\n",
        "labor_per_unit = 1.6\n",
        "increment_cost = 300\n",
        "reduction_cost = 600 "
      ],
      "metadata": {
        "id": "2P4djicGPXu7"
      },
      "execution_count": null,
      "outputs": []
    },
    {
      "cell_type": "markdown",
      "source": [
        "###Plan 1 - Level Monthly Production    "
      ],
      "metadata": {
        "id": "hrm2VKgdSn7P"
      }
    },
    {
      "cell_type": "markdown",
      "source": [
        "####Calculate labor effort (workers) at level production   "
      ],
      "metadata": {
        "id": "AlnwGxeVW-no"
      }
    },
    {
      "cell_type": "code",
      "source": [
        "# calculate daily workforce requirement (workers) using level production and an 8-hour day\n",
        "plan1_workforce = int((labor_per_unit * 50)/8) \n",
        "print(F'The daily labor force required under Plan 1 is {plan1_workforce} workers.')"
      ],
      "metadata": {
        "id": "1Yo88xvjW6Aw"
      },
      "execution_count": null,
      "outputs": []
    },
    {
      "cell_type": "markdown",
      "source": [
        "####Calculate production and inventory values    "
      ],
      "metadata": {
        "id": "0TRKk5FLW6ZC"
      }
    },
    {
      "cell_type": "code",
      "source": [
        "# calculate the plan1_production (monthly) at the level_production\n",
        "demand_df['plan1_production'] = demand_df['production_days'] * demand_df['level_production']"
      ],
      "metadata": {
        "id": "BiZkxiwmPUcc"
      },
      "execution_count": null,
      "outputs": []
    },
    {
      "cell_type": "code",
      "source": [
        "# calculate the plan1_inventory_delta as expected_demand - plan1_production\n",
        "demand_df['plan1_inventory_delta'] = demand_df['plan1_production'] - demand_df['expected_demand']"
      ],
      "metadata": {
        "id": "uVpXm7eoV301"
      },
      "execution_count": null,
      "outputs": []
    },
    {
      "cell_type": "code",
      "source": [
        "demand_df"
      ],
      "metadata": {
        "id": "E4aYINH9VfOT"
      },
      "execution_count": null,
      "outputs": []
    },
    {
      "cell_type": "code",
      "source": [
        "print(pd.to_numeric(demand_df.plan1_inventory_delta.shift(1)).fillna(0))"
      ],
      "metadata": {
        "id": "eBBODJcungKb"
      },
      "execution_count": null,
      "outputs": []
    },
    {
      "cell_type": "code",
      "source": [
        "# demand_df['plan1_inventory_delta'].iloc[0:]\n",
        "demand_df['plan1_carried'].iloc[1:]"
      ],
      "metadata": {
        "id": "1BiAsCCwr7M9"
      },
      "execution_count": null,
      "outputs": []
    },
    {
      "cell_type": "code",
      "source": [
        "# initialize plan1_ending_inventory as zero (0)\n",
        "demand_df['plan1_ending_inventory'] = 0\n",
        "\n",
        "demand_df['plan1_beginning_inventory'] = pd.to_numeric(demand_df.plan1_inventory_delta.shift(1)).fillna(0)\n",
        "\n",
        "demand_df['plan1_ending_inventory'] = demand_df.plan1_beginning_inventory + demand_df.plan1_inventory_delta\n"
      ],
      "metadata": {
        "id": "z8ctPcBXjRsT"
      },
      "execution_count": null,
      "outputs": []
    },
    {
      "cell_type": "code",
      "source": [
        "### MANY STEPS\n",
        "# initialize plan1_ending_inventory as zero (0)\n",
        "demand_df['plan1_ending_inventory'] = 0\n",
        "\n",
        "# pull last period's inventory delta forward as carried inventory\n",
        "demand_df['plan1_carried'] = demand_df.plan1_inventory_delta.shift(1)\n",
        "# replace any carried inventory value which is NaN with a zero (0)\n",
        "demand_df['plan1_carried'] = pd.to_numeric(demand_df['plan1_carried'], errors='coerce').fillna(0)\n",
        "# replace any negative carried inventory value with a zero (0)\n",
        "demand_df['plan1_carried'].mask(demand_df.plan1_carried < 0, 0)\n",
        "\n",
        "# calculate the ending inventory as the inventory delta plus any carried inventory\n",
        "demand_df['plan1_ending_inventory'] = demand_df['plan1_inventory_delta'] + demand_df['plan1_carried']"
      ],
      "metadata": {
        "id": "BBs1n4mpcRKB"
      },
      "execution_count": null,
      "outputs": []
    },
    {
      "cell_type": "code",
      "source": [
        "demand_df.axes"
      ],
      "metadata": {
        "id": "ulInOVLZal9E"
      },
      "execution_count": null,
      "outputs": []
    },
    {
      "cell_type": "code",
      "source": [
        "# calculate the total inventory to carry through the forecast period (total of monthly inventory)\n",
        "plan1_total_inventory = demand_df.plan1_inventory_delta.sum()\n",
        "print(F'Total units of inventory carried over from one month to the next is {plan1_total_inventory}.')"
      ],
      "metadata": {
        "id": "gBJnbHoLZRJT"
      },
      "execution_count": null,
      "outputs": []
    }
  ]
}